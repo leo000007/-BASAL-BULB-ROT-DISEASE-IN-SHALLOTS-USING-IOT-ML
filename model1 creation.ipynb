{
 "cells": [
  {
   "cell_type": "code",
   "execution_count": 1,
   "id": "1fb1c10e",
   "metadata": {},
   "outputs": [],
   "source": [
    "import matplotlib.pyplot as plt\n",
    "import torch\n",
    "import torchvision\n",
    "from torch import nn\n",
    "from torchvision import transforms\n",
    "from helper_functions import set_seeds"
   ]
  },
  {
   "cell_type": "code",
   "execution_count": 2,
   "id": "12e97c71",
   "metadata": {},
   "outputs": [
    {
     "data": {
      "text/plain": [
       "'cpu'"
      ]
     },
     "execution_count": 2,
     "metadata": {},
     "output_type": "execute_result"
    }
   ],
   "source": [
    "device = \"cuda\" if torch.cuda.is_available() else \"cpu\"\n",
    "device"
   ]
  },
  {
   "cell_type": "code",
   "execution_count": 3,
   "id": "0de25b1a",
   "metadata": {},
   "outputs": [],
   "source": [
    "pretrained_vit_weights = torchvision.models.ViT_B_16_Weights.DEFAULT \n",
    "\n",
    "pretrained_vit = torchvision.models.vit_b_16(weights=pretrained_vit_weights).to(device)\n",
    "\n",
    "for parameter in pretrained_vit.parameters():\n",
    "    parameter.requires_grad = False\n",
    "    \n",
    "class_names = [\"basal_rot_disease\",\"Netural\"]\n",
    "\n",
    "set_seeds()\n",
    "pretrained_vit.heads = nn.Linear(in_features=768, out_features=len(class_names)).to(device)\n"
   ]
  },
  {
   "cell_type": "code",
   "execution_count": 4,
   "id": "e3feaa42",
   "metadata": {},
   "outputs": [
    {
     "data": {
      "text/plain": [
       "============================================================================================================================================\n",
       "Layer (type (var_name))                                      Input Shape          Output Shape         Param #              Trainable\n",
       "============================================================================================================================================\n",
       "VisionTransformer (VisionTransformer)                        [32, 3, 224, 224]    [32, 2]              768                  Partial\n",
       "├─Conv2d (conv_proj)                                         [32, 3, 224, 224]    [32, 768, 14, 14]    (590,592)            False\n",
       "├─Encoder (encoder)                                          [32, 197, 768]       [32, 197, 768]       151,296              False\n",
       "│    └─Dropout (dropout)                                     [32, 197, 768]       [32, 197, 768]       --                   --\n",
       "│    └─Sequential (layers)                                   [32, 197, 768]       [32, 197, 768]       --                   False\n",
       "│    │    └─EncoderBlock (encoder_layer_0)                   [32, 197, 768]       [32, 197, 768]       (7,087,872)          False\n",
       "│    │    └─EncoderBlock (encoder_layer_1)                   [32, 197, 768]       [32, 197, 768]       (7,087,872)          False\n",
       "│    │    └─EncoderBlock (encoder_layer_2)                   [32, 197, 768]       [32, 197, 768]       (7,087,872)          False\n",
       "│    │    └─EncoderBlock (encoder_layer_3)                   [32, 197, 768]       [32, 197, 768]       (7,087,872)          False\n",
       "│    │    └─EncoderBlock (encoder_layer_4)                   [32, 197, 768]       [32, 197, 768]       (7,087,872)          False\n",
       "│    │    └─EncoderBlock (encoder_layer_5)                   [32, 197, 768]       [32, 197, 768]       (7,087,872)          False\n",
       "│    │    └─EncoderBlock (encoder_layer_6)                   [32, 197, 768]       [32, 197, 768]       (7,087,872)          False\n",
       "│    │    └─EncoderBlock (encoder_layer_7)                   [32, 197, 768]       [32, 197, 768]       (7,087,872)          False\n",
       "│    │    └─EncoderBlock (encoder_layer_8)                   [32, 197, 768]       [32, 197, 768]       (7,087,872)          False\n",
       "│    │    └─EncoderBlock (encoder_layer_9)                   [32, 197, 768]       [32, 197, 768]       (7,087,872)          False\n",
       "│    │    └─EncoderBlock (encoder_layer_10)                  [32, 197, 768]       [32, 197, 768]       (7,087,872)          False\n",
       "│    │    └─EncoderBlock (encoder_layer_11)                  [32, 197, 768]       [32, 197, 768]       (7,087,872)          False\n",
       "│    └─LayerNorm (ln)                                        [32, 197, 768]       [32, 197, 768]       (1,536)              False\n",
       "├─Linear (heads)                                             [32, 768]            [32, 2]              1,538                True\n",
       "============================================================================================================================================\n",
       "Total params: 85,800,194\n",
       "Trainable params: 1,538\n",
       "Non-trainable params: 85,798,656\n",
       "Total mult-adds (G): 5.52\n",
       "============================================================================================================================================\n",
       "Input size (MB): 19.27\n",
       "Forward/backward pass size (MB): 3330.74\n",
       "Params size (MB): 229.20\n",
       "Estimated Total Size (MB): 3579.20\n",
       "============================================================================================================================================"
      ]
     },
     "execution_count": 4,
     "metadata": {},
     "output_type": "execute_result"
    }
   ],
   "source": [
    "from torchinfo import summary\n",
    "\n",
    "summary(model=pretrained_vit, \n",
    "        input_size=(32, 3, 224, 224), \n",
    "        col_names=[\"input_size\", \"output_size\", \"num_params\", \"trainable\"],\n",
    "        col_width=20,\n",
    "        row_settings=[\"var_names\"]\n",
    ")"
   ]
  },
  {
   "cell_type": "code",
   "execution_count": 5,
   "id": "ac8cc699",
   "metadata": {},
   "outputs": [],
   "source": [
    "train_dir =r'dataset/train'\n",
    "test_dir =r'dataset/test'"
   ]
  },
  {
   "cell_type": "markdown",
   "id": "91175306",
   "metadata": {},
   "source": [
    "Remember, if you're going to use a pretrained model, it's generally important to ensure your own custom data is transformed/formatted in the same way the data the original model was trained on."
   ]
  },
  {
   "cell_type": "code",
   "execution_count": 6,
   "id": "05aa777b",
   "metadata": {},
   "outputs": [
    {
     "name": "stdout",
     "output_type": "stream",
     "text": [
      "ImageClassification(\n",
      "    crop_size=[224]\n",
      "    resize_size=[256]\n",
      "    mean=[0.485, 0.456, 0.406]\n",
      "    std=[0.229, 0.224, 0.225]\n",
      "    interpolation=InterpolationMode.BILINEAR\n",
      ")\n"
     ]
    }
   ],
   "source": [
    "pretrained_vit_transforms = pretrained_vit_weights.transforms()\n",
    "print(pretrained_vit_transforms)"
   ]
  },
  {
   "cell_type": "code",
   "execution_count": 7,
   "id": "aef808a8",
   "metadata": {},
   "outputs": [
    {
     "name": "stdout",
     "output_type": "stream",
     "text": [
      "ImageClassification(\n",
      "    crop_size=[224]\n",
      "    resize_size=[256]\n",
      "    mean=[0.485, 0.456, 0.406]\n",
      "    std=[0.229, 0.224, 0.225]\n",
      "    interpolation=InterpolationMode.BILINEAR\n",
      ")\n"
     ]
    }
   ],
   "source": [
    "pretrained_vit_transforms = pretrained_vit_weights.transforms()\n",
    "print(pretrained_vit_transforms)"
   ]
  },
  {
   "cell_type": "code",
   "execution_count": 8,
   "id": "5d49225b",
   "metadata": {},
   "outputs": [],
   "source": [
    "import os\n",
    "\n",
    "from torchvision import datasets, transforms\n",
    "from torch.utils.data import DataLoader\n",
    "\n",
    "NUM_WORKERS = os.cpu_count()\n",
    "\n",
    "def create_dataloaders(\n",
    "    train_dir: str, \n",
    "    test_dir: str, \n",
    "    transform: transforms.Compose, \n",
    "    batch_size: int, \n",
    "    num_workers: int=NUM_WORKERS\n",
    "):\n",
    "\n",
    "  train_data = datasets.ImageFolder(train_dir, transform=transform)\n",
    "  test_data = datasets.ImageFolder(test_dir, transform=transform)\n",
    "\n",
    "  class_names = train_data.classes\n",
    "\n",
    "  train_dataloader = DataLoader(\n",
    "      train_data,\n",
    "      batch_size=batch_size,\n",
    "      shuffle=True,\n",
    "      num_workers=num_workers,\n",
    "      pin_memory=True,\n",
    "  )\n",
    "  test_dataloader = DataLoader(\n",
    "      test_data,\n",
    "      batch_size=batch_size,\n",
    "      shuffle=False,\n",
    "      num_workers=num_workers,\n",
    "      pin_memory=True,\n",
    "  )\n",
    "\n",
    "  return train_dataloader, test_dataloader, class_names"
   ]
  },
  {
   "cell_type": "code",
   "execution_count": 9,
   "id": "9037c8a5",
   "metadata": {},
   "outputs": [],
   "source": [
    "train_dataloader_pretrained, test_dataloader_pretrained, class_names = create_dataloaders(train_dir=train_dir,\n",
    "                                                                                                     test_dir=test_dir,\n",
    "                                                                                                     transform=pretrained_vit_transforms,\n",
    "                                                                                                     batch_size=32) # Could increase if we had more samples, such as here: https://arxiv.org/abs/2205.01580 (there are other improvements there too...)\n"
   ]
  },
  {
   "cell_type": "code",
   "execution_count": 10,
   "id": "10c5ba74",
   "metadata": {},
   "outputs": [
    {
     "name": "stderr",
     "output_type": "stream",
     "text": [
      "c:\\Users\\Admin\\AppData\\Local\\Programs\\Python\\Python310\\lib\\site-packages\\tqdm\\auto.py:21: TqdmWarning: IProgress not found. Please update jupyter and ipywidgets. See https://ipywidgets.readthedocs.io/en/stable/user_install.html\n",
      "  from .autonotebook import tqdm as notebook_tqdm\n"
     ]
    },
    {
     "name": "stderr",
     "output_type": "stream",
     "text": [
      " 50%|█████     | 1/2 [01:10<01:10, 70.33s/it]"
     ]
    },
    {
     "name": "stdout",
     "output_type": "stream",
     "text": [
      "Epoch: 1 | train_loss: 0.4746 | train_acc: 0.7593 | test_loss: 0.2632 | test_acc: 0.9375\n"
     ]
    },
    {
     "name": "stderr",
     "output_type": "stream",
     "text": [
      "100%|██████████| 2/2 [02:19<00:00, 69.82s/it]"
     ]
    },
    {
     "name": "stdout",
     "output_type": "stream",
     "text": [
      "Epoch: 2 | train_loss: 0.1638 | train_acc: 0.9688 | test_loss: 0.1381 | test_acc: 0.9688\n"
     ]
    },
    {
     "name": "stderr",
     "output_type": "stream",
     "text": [
      "\n"
     ]
    }
   ],
   "source": [
    "from engine import engine\n",
    "\n",
    "optimizer = torch.optim.Adam(params=pretrained_vit.parameters(), \n",
    "                             lr=1e-3)\n",
    "loss_fn = torch.nn.CrossEntropyLoss()\n",
    "\n",
    "#set_seeds()\n",
    "pretrained_vit_results = engine.train(model=pretrained_vit,\n",
    "                                      train_dataloader=train_dataloader_pretrained,\n",
    "                                      test_dataloader=test_dataloader_pretrained,\n",
    "                                      optimizer=optimizer,\n",
    "                                      loss_fn=loss_fn,\n",
    "                                      epochs=2,\n",
    "                                      device=device)"
   ]
  },
  {
   "cell_type": "code",
   "execution_count": 11,
   "id": "75e00c95",
   "metadata": {},
   "outputs": [],
   "source": [
    "# Save the entire model\n",
    "torch.save(pretrained_vit, 'model1.pth')\n",
    "\n"
   ]
  },
  {
   "cell_type": "code",
   "execution_count": 12,
   "id": "6538ea6d",
   "metadata": {},
   "outputs": [
    {
     "name": "stdout",
     "output_type": "stream",
     "text": [
      "Image: 428.jpg, Predicted class: 0\n",
      "Image: 429.jpg, Predicted class: 0\n",
      "Image: 430.jpg, Predicted class: 0\n",
      "Image: 431.jpg, Predicted class: 0\n",
      "Image: 432.jpg, Predicted class: 0\n",
      "Image: image_0.jpg, Predicted class: 1\n",
      "Image: image_1.jpg, Predicted class: 1\n",
      "Image: image_10.jpg, Predicted class: 0\n",
      "Image: image_11.jpg, Predicted class: 0\n",
      "Image: image_12.jpg, Predicted class: 0\n",
      "Image: image_13.jpg, Predicted class: 0\n",
      "Image: image_14.jpg, Predicted class: 0\n",
      "Image: image_15.jpg, Predicted class: 0\n",
      "Image: image_16.jpg, Predicted class: 0\n",
      "Image: image_17.jpg, Predicted class: 0\n",
      "Image: image_18.jpg, Predicted class: 0\n",
      "Image: image_19.jpg, Predicted class: 0\n",
      "Image: image_2.jpg, Predicted class: 0\n",
      "Image: image_20.jpg, Predicted class: 0\n",
      "Image: image_21.jpg, Predicted class: 0\n",
      "Image: image_3.jpg, Predicted class: 0\n",
      "Image: image_4.jpg, Predicted class: 0\n",
      "Image: image_5.jpg, Predicted class: 0\n",
      "Image: image_6.jpg, Predicted class: 0\n",
      "Image: image_7.jpg, Predicted class: 0\n",
      "Image: image_8.jpg, Predicted class: 0\n",
      "Image: image_9.jpg, Predicted class: 1\n"
     ]
    }
   ],
   "source": [
    "import os\n",
    "from PIL import Image\n",
    "import torch\n",
    "from torchvision import transforms\n",
    "\n",
    "# Assuming pretrained_vit is already defined\n",
    "device = torch.device('cuda' if torch.cuda.is_available() else 'cpu')\n",
    "\n",
    "model_path = 'model1.pth'\n",
    "pretrained_vit = torch.load(model_path, map_location=device, weights_only=False)\n",
    "pretrained_vit.eval()\n",
    "pretrained_vit.to(device)\n",
    "\n",
    "# Define the folder containing the images\n",
    "folder_path = \"dataset/test/Netural\"\n",
    "\n",
    "# Define the transformation for the images\n",
    "image_transform = transforms.Compose([\n",
    "    transforms.Resize((224, 224)),\n",
    "    transforms.ToTensor(),\n",
    "    transforms.Normalize(mean=[0.485, 0.456, 0.406], std=[0.229, 0.224, 0.225]),\n",
    "])\n",
    "\n",
    "# List all files in the folder\n",
    "image_files = os.listdir(folder_path)\n",
    "\n",
    "# Iterate through the image files\n",
    "for image_file in image_files:\n",
    "    # Construct the full path to the image\n",
    "    image_path = os.path.join(folder_path, image_file)\n",
    "    \n",
    "    # Open and preprocess the image\n",
    "    img = Image.open(image_path)\n",
    "    img = img.resize((224, 224))\n",
    "    img_tensor = image_transform(img).unsqueeze(dim=0).to(device)\n",
    "    \n",
    "    # Perform inference\n",
    "    with torch.no_grad():\n",
    "        model_output = pretrained_vit(img_tensor)\n",
    "    \n",
    "    # Get predicted class\n",
    "    probabilities = torch.nn.functional.softmax(model_output[0], dim=0)\n",
    "    predicted_class = torch.argmax(probabilities).item()\n",
    "    \n",
    "    # Print the predicted class\n",
    "    print(f\"Image: {image_file}, Predicted class: {predicted_class}\")\n"
   ]
  },
  {
   "cell_type": "code",
   "execution_count": null,
   "id": "1ee11599",
   "metadata": {},
   "outputs": [
    {
     "name": "stdout",
     "output_type": "stream",
     "text": [
      "tensor([0.7204, 0.2796])\n",
      "0\n",
      "tensor([0.7166, 0.2834])\n",
      "0\n",
      "tensor([0.7303, 0.2697])\n",
      "0\n",
      "tensor([0.6938, 0.3062])\n",
      "0\n",
      "tensor([0.6771, 0.3229])\n",
      "0\n",
      "tensor([0.6586, 0.3414])\n",
      "0\n",
      "tensor([0.6373, 0.3627])\n",
      "0\n",
      "tensor([0.6132, 0.3868])\n",
      "0\n",
      "tensor([0.4771, 0.5229])\n",
      "1\n",
      "tensor([0.5136, 0.4864])\n",
      "0\n",
      "tensor([0.5551, 0.4449])\n",
      "0\n",
      "tensor([0.5373, 0.4627])\n",
      "0\n",
      "tensor([0.5605, 0.4395])\n",
      "0\n",
      "tensor([0.5780, 0.4220])\n",
      "0\n",
      "tensor([0.6193, 0.3807])\n",
      "0\n",
      "tensor([0.6901, 0.3099])\n",
      "0\n",
      "tensor([0.6514, 0.3486])\n",
      "0\n",
      "tensor([0.6721, 0.3279])\n",
      "0\n",
      "tensor([0.6473, 0.3527])\n",
      "0\n",
      "tensor([0.6346, 0.3654])\n",
      "0\n",
      "tensor([0.6388, 0.3612])\n",
      "0\n",
      "tensor([0.6386, 0.3614])\n",
      "0\n",
      "tensor([0.6179, 0.3821])\n",
      "0\n",
      "tensor([0.6441, 0.3559])\n",
      "0\n",
      "tensor([0.6255, 0.3745])\n",
      "0\n",
      "tensor([0.6331, 0.3669])\n",
      "0\n",
      "tensor([0.6332, 0.3668])\n",
      "0\n",
      "tensor([0.6311, 0.3689])\n",
      "0\n",
      "tensor([0.6496, 0.3504])\n",
      "0\n",
      "tensor([0.6435, 0.3565])\n",
      "0\n",
      "tensor([0.6345, 0.3655])\n",
      "0\n",
      "tensor([0.6373, 0.3627])\n",
      "0\n",
      "tensor([0.6522, 0.3478])\n",
      "0\n",
      "tensor([0.6454, 0.3546])\n",
      "0\n",
      "tensor([0.6521, 0.3479])\n",
      "0\n",
      "tensor([0.5351, 0.4649])\n",
      "0\n",
      "tensor([0.5867, 0.4133])\n",
      "0\n",
      "tensor([0.5394, 0.4606])\n",
      "0\n",
      "tensor([0.5136, 0.4864])\n",
      "0\n",
      "tensor([0.5810, 0.4190])\n",
      "0\n",
      "tensor([0.4442, 0.5558])\n",
      "1\n",
      "tensor([0.6204, 0.3796])\n",
      "0\n",
      "tensor([0.5987, 0.4013])\n",
      "0\n",
      "tensor([0.6544, 0.3456])\n",
      "0\n",
      "tensor([0.6485, 0.3515])\n",
      "0\n",
      "tensor([0.5644, 0.4356])\n",
      "0\n",
      "tensor([0.5453, 0.4547])\n",
      "0\n",
      "tensor([0.5705, 0.4295])\n",
      "0\n",
      "tensor([0.5861, 0.4139])\n",
      "0\n",
      "tensor([0.5624, 0.4376])\n",
      "0\n",
      "tensor([0.4958, 0.5042])\n",
      "1\n",
      "tensor([0.5470, 0.4530])\n",
      "0\n",
      "tensor([0.4302, 0.5698])\n",
      "1\n",
      "tensor([0.2893, 0.7107])\n",
      "1\n",
      "tensor([0.2485, 0.7515])\n",
      "1\n",
      "tensor([0.1830, 0.8170])\n",
      "1\n",
      "tensor([0.1674, 0.8326])\n",
      "1\n",
      "tensor([0.2130, 0.7870])\n",
      "1\n",
      "tensor([0.1946, 0.8054])\n",
      "1\n",
      "tensor([0.0759, 0.9241])\n",
      "1\n",
      "tensor([0.1408, 0.8592])\n",
      "1\n",
      "tensor([0.2455, 0.7545])\n",
      "1\n",
      "tensor([0.2293, 0.7707])\n",
      "1\n",
      "tensor([0.1915, 0.8085])\n",
      "1\n",
      "tensor([0.2243, 0.7757])\n",
      "1\n",
      "tensor([0.1713, 0.8287])\n",
      "1\n",
      "tensor([0.1625, 0.8375])\n",
      "1\n",
      "tensor([0.6173, 0.3827])\n",
      "0\n",
      "tensor([0.5577, 0.4423])\n",
      "0\n",
      "tensor([0.6033, 0.3967])\n",
      "0\n",
      "tensor([0.5409, 0.4591])\n",
      "0\n",
      "tensor([0.5900, 0.4100])\n",
      "0\n",
      "tensor([0.5759, 0.4241])\n",
      "0\n",
      "tensor([0.5937, 0.4063])\n",
      "0\n",
      "tensor([0.6109, 0.3891])\n",
      "0\n",
      "tensor([0.6660, 0.3340])\n",
      "0\n",
      "tensor([0.6359, 0.3641])\n",
      "0\n",
      "tensor([0.6318, 0.3682])\n",
      "0\n",
      "tensor([0.5742, 0.4258])\n",
      "0\n",
      "tensor([0.6360, 0.3640])\n",
      "0\n",
      "tensor([0.6627, 0.3373])\n",
      "0\n",
      "tensor([0.7070, 0.2930])\n",
      "0\n",
      "tensor([0.7086, 0.2914])\n",
      "0\n",
      "tensor([0.6787, 0.3213])\n",
      "0\n",
      "tensor([0.6723, 0.3277])\n",
      "0\n",
      "tensor([0.5422, 0.4578])\n",
      "0\n",
      "tensor([0.5650, 0.4350])\n",
      "0\n"
     ]
    }
   ],
   "source": []
  }
 ],
 "metadata": {
  "kernelspec": {
   "display_name": "Python 3",
   "language": "python",
   "name": "python3"
  },
  "language_info": {
   "codemirror_mode": {
    "name": "ipython",
    "version": 3
   },
   "file_extension": ".py",
   "mimetype": "text/x-python",
   "name": "python",
   "nbconvert_exporter": "python",
   "pygments_lexer": "ipython3",
   "version": "3.10.8"
  }
 },
 "nbformat": 4,
 "nbformat_minor": 5
}
